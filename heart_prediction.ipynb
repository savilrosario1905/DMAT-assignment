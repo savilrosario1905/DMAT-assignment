{
 "cells": [
  {
   "cell_type": "code",
   "execution_count": null,
   "metadata": {},
   "outputs": [],
   "source": [
    "import os\n",
    "import pandas as pd\n",
    "\n",
    "# Printing the current working directory\n",
    "print(os.getcwd())\n",
    "\n",
    "# Directory for importing the dataset\n",
    "data_csv = pd.read_csv(\"C:\\\\Users\\\\HP\\\\Desktop\\\\Datamining\\\\assignment1\\\\dataset.csv\")\n",
    "\n",
    "# Displaying the first few rows of the dataset\n",
    "data_csv.head()"
   ]
  }
 ],
 "metadata": {
  "kernelspec": {
   "display_name": "Python 3",
   "language": "python",
   "name": "python3"
  },
  "language_info": {
   "name": "python",
   "version": "3.11.2"
  }
 },
 "nbformat": 4,
 "nbformat_minor": 2
}
